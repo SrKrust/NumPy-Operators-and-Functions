{
 "cells": [
  {
   "cell_type": "code",
   "execution_count": 1,
   "id": "aa4b1ad3",
   "metadata": {},
   "outputs": [],
   "source": [
    "import numpy as np"
   ]
  },
  {
   "cell_type": "markdown",
   "id": "f9595c4c",
   "metadata": {},
   "source": [
    "## 1] array"
   ]
  },
  {
   "cell_type": "code",
   "execution_count": 2,
   "id": "136adf5c",
   "metadata": {},
   "outputs": [
    {
     "data": {
      "text/plain": [
       "array(20)"
      ]
     },
     "execution_count": 2,
     "metadata": {},
     "output_type": "execute_result"
    }
   ],
   "source": [
    "a = np.array(20)\n",
    "a"
   ]
  },
  {
   "cell_type": "code",
   "execution_count": 3,
   "id": "b6919eff",
   "metadata": {},
   "outputs": [
    {
     "data": {
      "text/plain": [
       "array(['10', '20', '30', '40', '11'], dtype='<U11')"
      ]
     },
     "execution_count": 3,
     "metadata": {},
     "output_type": "execute_result"
    }
   ],
   "source": [
    "a = np.array([\"10\",20,30,40,11])\n",
    "a"
   ]
  },
  {
   "cell_type": "markdown",
   "id": "638a846f",
   "metadata": {},
   "source": [
    "## 2] arange"
   ]
  },
  {
   "cell_type": "markdown",
   "id": "48144d26",
   "metadata": {},
   "source": [
    "## * it will print the array within specify range "
   ]
  },
  {
   "cell_type": "code",
   "execution_count": 4,
   "id": "1a3d8537",
   "metadata": {},
   "outputs": [
    {
     "data": {
      "text/plain": [
       "array([1, 2, 3, 4, 5, 6, 7, 8, 9])"
      ]
     },
     "execution_count": 4,
     "metadata": {},
     "output_type": "execute_result"
    }
   ],
   "source": [
    "a = np.arange(1,10)\n",
    "a"
   ]
  },
  {
   "cell_type": "markdown",
   "id": "76e3b526",
   "metadata": {},
   "source": [
    "## 3] ndim         \n"
   ]
  },
  {
   "cell_type": "markdown",
   "id": "357d6bd0",
   "metadata": {},
   "source": [
    "##  * it will show the dimension of the  array\n"
   ]
  },
  {
   "cell_type": "code",
   "execution_count": 5,
   "id": "84e97203",
   "metadata": {},
   "outputs": [
    {
     "name": "stdout",
     "output_type": "stream",
     "text": [
      "3\n",
      "[[[10 20 30]\n",
      "  [11 22 33]]]\n"
     ]
    }
   ],
   "source": [
    "a = np.array([[[10,20,30],[11,22,33]]])\n",
    "print(a.ndim)     \n",
    "print(a)"
   ]
  },
  {
   "cell_type": "markdown",
   "id": "243d9c3f",
   "metadata": {},
   "source": [
    "## 4] itemsize         \n"
   ]
  },
  {
   "cell_type": "markdown",
   "id": "a86eea43",
   "metadata": {},
   "source": [
    "### * it will calculate the byte size of each element and it depends on data type\n"
   ]
  },
  {
   "cell_type": "markdown",
   "id": "933852fa",
   "metadata": {},
   "source": [
    "### * integer have 4 bytes and float have 8 bytes"
   ]
  },
  {
   "cell_type": "code",
   "execution_count": 6,
   "id": "4a2699c9",
   "metadata": {},
   "outputs": [
    {
     "data": {
      "text/plain": [
       "4"
      ]
     },
     "execution_count": 6,
     "metadata": {},
     "output_type": "execute_result"
    }
   ],
   "source": [
    "a.itemsize    "
   ]
  },
  {
   "cell_type": "markdown",
   "id": "90761650",
   "metadata": {},
   "source": [
    "## 5] shape   "
   ]
  },
  {
   "cell_type": "markdown",
   "id": "e96687e5",
   "metadata": {},
   "source": [
    "## * it provides the new view"
   ]
  },
  {
   "cell_type": "code",
   "execution_count": 7,
   "id": "409d9603",
   "metadata": {},
   "outputs": [
    {
     "data": {
      "text/plain": [
       "(1, 2, 3)"
      ]
     },
     "execution_count": 7,
     "metadata": {},
     "output_type": "execute_result"
    }
   ],
   "source": [
    "a.shape   "
   ]
  },
  {
   "cell_type": "markdown",
   "id": "7fb05109",
   "metadata": {},
   "source": [
    "## 6] dtype   "
   ]
  },
  {
   "cell_type": "markdown",
   "id": "457ad871",
   "metadata": {},
   "source": [
    "## * it will determine the data type of the element"
   ]
  },
  {
   "cell_type": "code",
   "execution_count": 8,
   "id": "ff33d89b",
   "metadata": {},
   "outputs": [
    {
     "data": {
      "text/plain": [
       "dtype('int32')"
      ]
     },
     "execution_count": 8,
     "metadata": {},
     "output_type": "execute_result"
    }
   ],
   "source": [
    "a.dtype         "
   ]
  },
  {
   "cell_type": "markdown",
   "id": "3eaa3b95",
   "metadata": {},
   "source": [
    "## 7] reshape()"
   ]
  },
  {
   "cell_type": "markdown",
   "id": "0796bd92",
   "metadata": {},
   "source": [
    "## *it will change the shape of the matrix"
   ]
  },
  {
   "cell_type": "code",
   "execution_count": 9,
   "id": "092a7b1d",
   "metadata": {},
   "outputs": [
    {
     "data": {
      "text/plain": [
       "array([[10, 20],\n",
       "       [30, 11],\n",
       "       [22, 33]])"
      ]
     },
     "execution_count": 9,
     "metadata": {},
     "output_type": "execute_result"
    }
   ],
   "source": [
    "a.reshape(3,2)   "
   ]
  },
  {
   "cell_type": "markdown",
   "id": "f6feb816",
   "metadata": {},
   "source": [
    "## 8] zeros()"
   ]
  },
  {
   "cell_type": "markdown",
   "id": "1113db4a",
   "metadata": {},
   "source": [
    "## * it will print zeros in the form of given  no of rows and columns"
   ]
  },
  {
   "cell_type": "code",
   "execution_count": 10,
   "id": "247251d1",
   "metadata": {},
   "outputs": [
    {
     "data": {
      "text/plain": [
       "array([[0., 0., 0., 0.],\n",
       "       [0., 0., 0., 0.]])"
      ]
     },
     "execution_count": 10,
     "metadata": {},
     "output_type": "execute_result"
    }
   ],
   "source": [
    "a = np.zeros((2,4))   \n",
    "a"
   ]
  },
  {
   "cell_type": "markdown",
   "id": "5e99f547",
   "metadata": {},
   "source": [
    "## 9] ones()"
   ]
  },
  {
   "cell_type": "markdown",
   "id": "bc5d4d9a",
   "metadata": {},
   "source": [
    "## * it will print ones in the form of given no of rows and columns"
   ]
  },
  {
   "cell_type": "code",
   "execution_count": 11,
   "id": "e36de9cf",
   "metadata": {},
   "outputs": [
    {
     "data": {
      "text/plain": [
       "array([[1., 1.],\n",
       "       [1., 1.],\n",
       "       [1., 1.]])"
      ]
     },
     "execution_count": 11,
     "metadata": {},
     "output_type": "execute_result"
    }
   ],
   "source": [
    "a = np.ones((3,2))    \n",
    "a"
   ]
  },
  {
   "cell_type": "markdown",
   "id": "a97d2d05",
   "metadata": {},
   "source": [
    "## 10] identity() and eye() are same"
   ]
  },
  {
   "cell_type": "markdown",
   "id": "55262fcf",
   "metadata": {},
   "source": [
    "## * it will print the 1 in  diagonal form with in given matrix"
   ]
  },
  {
   "cell_type": "code",
   "execution_count": 12,
   "id": "6dc19ebb",
   "metadata": {},
   "outputs": [
    {
     "data": {
      "text/plain": [
       "array([[1., 0., 0.],\n",
       "       [0., 1., 0.],\n",
       "       [0., 0., 1.]])"
      ]
     },
     "execution_count": 12,
     "metadata": {},
     "output_type": "execute_result"
    }
   ],
   "source": [
    "a = np.identity(3)      # in identity we can not specify matrix as(2,3) but in eye we can specify in both ways such as (3) and (2,3) also \n",
    "a"
   ]
  },
  {
   "cell_type": "markdown",
   "id": "1b9774b0",
   "metadata": {},
   "source": [
    "## 11] size"
   ]
  },
  {
   "cell_type": "markdown",
   "id": "34114697",
   "metadata": {},
   "source": [
    "## * it will show the no of elements"
   ]
  },
  {
   "cell_type": "code",
   "execution_count": 13,
   "id": "c756f0db",
   "metadata": {},
   "outputs": [
    {
     "name": "stdout",
     "output_type": "stream",
     "text": [
      "[[[11 22 33]\n",
      "  [44 55 66]]]\n",
      "6\n"
     ]
    }
   ],
   "source": [
    "a = np.array([[[11,22,33,],[44,55,66]]])\n",
    "print(a)\n",
    "print(a.size)"
   ]
  },
  {
   "cell_type": "markdown",
   "id": "7b39fb97",
   "metadata": {},
   "source": [
    "## 12] transpose and T are same "
   ]
  },
  {
   "cell_type": "markdown",
   "id": "20988413",
   "metadata": {},
   "source": [
    "## * it will reverse the rows and columns \n"
   ]
  },
  {
   "cell_type": "code",
   "execution_count": 14,
   "id": "e350a45f",
   "metadata": {},
   "outputs": [
    {
     "name": "stdout",
     "output_type": "stream",
     "text": [
      "[[[11]\n",
      "  [44]]\n",
      "\n",
      " [[22]\n",
      "  [55]]]\n",
      "[[[11]\n",
      "  [44]]\n",
      "\n",
      " [[22]\n",
      "  [55]]]\n",
      "[[[11 22]\n",
      "  [44 55]]]\n"
     ]
    }
   ],
   "source": [
    "j = np.array([[[11,22],[44,55]]])\n",
    "print(j.T)\n",
    "print(np.transpose(j))\n",
    "print(j)"
   ]
  },
  {
   "cell_type": "markdown",
   "id": "ffd60184",
   "metadata": {},
   "source": [
    "## 13] linspace()"
   ]
  },
  {
   "cell_type": "markdown",
   "id": "6c8d906f",
   "metadata": {},
   "source": [
    "## * returns evenly space elements between given range"
   ]
  },
  {
   "cell_type": "code",
   "execution_count": 15,
   "id": "60c71049",
   "metadata": {},
   "outputs": [
    {
     "data": {
      "text/plain": [
       "array([ 1.        ,  2.28571429,  3.57142857,  4.85714286,  6.14285714,\n",
       "        7.42857143,  8.71428571, 10.        ])"
      ]
     },
     "execution_count": 15,
     "metadata": {},
     "output_type": "execute_result"
    }
   ],
   "source": [
    "a = np.linspace(1,10,8)\n",
    "a"
   ]
  },
  {
   "cell_type": "markdown",
   "id": "4398e033",
   "metadata": {},
   "source": [
    "## 14] min() and max()"
   ]
  },
  {
   "cell_type": "code",
   "execution_count": 16,
   "id": "4da3e75b",
   "metadata": {},
   "outputs": [
    {
     "name": "stdout",
     "output_type": "stream",
     "text": [
      "[[[11 22 33]\n",
      "  [44 55 66]]]\n",
      "66\n",
      "11\n"
     ]
    }
   ],
   "source": [
    "a = np.array([[[11,22,33,],[44,55,66]]])\n",
    "print(a)\n",
    "print(a.max())\n",
    "print(a.min())"
   ]
  },
  {
   "cell_type": "markdown",
   "id": "595971bf",
   "metadata": {},
   "source": [
    "## 15] sum()"
   ]
  },
  {
   "cell_type": "markdown",
   "id": "02df15d3",
   "metadata": {},
   "source": [
    "## * it will add all the elements "
   ]
  },
  {
   "cell_type": "code",
   "execution_count": 17,
   "id": "78b5af3d",
   "metadata": {},
   "outputs": [
    {
     "name": "stdout",
     "output_type": "stream",
     "text": [
      "231\n"
     ]
    }
   ],
   "source": [
    "a = np.array([[[11,22,33,],[44,55,66]]])\n",
    "print(a.sum())"
   ]
  },
  {
   "cell_type": "markdown",
   "id": "138d7a3c",
   "metadata": {},
   "source": [
    "## 16] sum(axis)"
   ]
  },
  {
   "cell_type": "markdown",
   "id": "16a27683",
   "metadata": {},
   "source": [
    "## * if the sum(axis=1) then it will add all the  column elements"
   ]
  },
  {
   "cell_type": "code",
   "execution_count": 18,
   "id": "228fa267",
   "metadata": {},
   "outputs": [
    {
     "name": "stdout",
     "output_type": "stream",
     "text": [
      "[[[11 22 33]\n",
      "  [44 55 66]]]\n",
      "[[55 77 99]]\n"
     ]
    }
   ],
   "source": [
    "a = np.array([[[11,22,33,],[44,55,66]]])\n",
    "print(a)\n",
    "print(a.sum(axis=1))"
   ]
  },
  {
   "cell_type": "markdown",
   "id": "6f34d45d",
   "metadata": {},
   "source": [
    "## 17] sqrt()"
   ]
  },
  {
   "cell_type": "markdown",
   "id": "02f5f863",
   "metadata": {},
   "source": [
    "## * it will show the square root of the elements"
   ]
  },
  {
   "cell_type": "code",
   "execution_count": 19,
   "id": "297f2495",
   "metadata": {},
   "outputs": [
    {
     "name": "stdout",
     "output_type": "stream",
     "text": [
      "[[1.73205081 2.        ]\n",
      " [2.44948974 2.64575131]\n",
      " [3.         4.        ]]\n"
     ]
    }
   ],
   "source": [
    "h = np.array([[3,4],[6,7],[9,16]])\n",
    "print(np.sqrt(h))"
   ]
  },
  {
   "cell_type": "markdown",
   "id": "33bb05fa",
   "metadata": {},
   "source": [
    "## 18] standard deviation   std()"
   ]
  },
  {
   "cell_type": "code",
   "execution_count": 20,
   "id": "a546f51c",
   "metadata": {},
   "outputs": [
    {
     "data": {
      "text/plain": [
       "4.272001872658765"
      ]
     },
     "execution_count": 20,
     "metadata": {},
     "output_type": "execute_result"
    }
   ],
   "source": [
    "x = np.std(h)\n",
    "x"
   ]
  },
  {
   "attachments": {
    "image.png": {
     "image/png": "[encoded data removed]"
    }
   },
   "cell_type": "markdown",
   "id": "f7256dcf",
   "metadata": {},
   "source": [
    "## 19] random()\n",
    "![image.png](attachment:image.png)"
   ]
  },
  {
   "cell_type": "markdown",
   "id": "b1ace11c",
   "metadata": {},
   "source": [
    "## random.random()"
   ]
  },
  {
   "cell_type": "markdown",
   "id": "890f4012",
   "metadata": {},
   "source": [
    "## * it will print  random numbers between 0-1 with in specify shape"
   ]
  },
  {
   "cell_type": "code",
   "execution_count": 21,
   "id": "d02d3fd2",
   "metadata": {},
   "outputs": [
    {
     "data": {
      "text/plain": [
       "array([[0.97661583, 0.64995224, 0.69252051],\n",
       "       [0.97512261, 0.73643836, 0.61931241]])"
      ]
     },
     "execution_count": 21,
     "metadata": {},
     "output_type": "execute_result"
    }
   ],
   "source": [
    "a = np.random.random((2,3))  \n",
    "a"
   ]
  },
  {
   "cell_type": "markdown",
   "id": "4bec81e5",
   "metadata": {},
   "source": [
    "## 20] ravel()"
   ]
  },
  {
   "cell_type": "markdown",
   "id": "1c709f19",
   "metadata": {},
   "source": [
    "## * it will convert higher dimension to single line array"
   ]
  },
  {
   "cell_type": "code",
   "execution_count": 22,
   "id": "d54fc993",
   "metadata": {},
   "outputs": [
    {
     "name": "stdout",
     "output_type": "stream",
     "text": [
      "[[[[10 20 30]\n",
      "   [11 22 33]\n",
      "   [12 23 31]\n",
      "   [14 25 36]]]]\n",
      "[10 20 30 11 22 33 12 23 31 14 25 36]\n"
     ]
    }
   ],
   "source": [
    "a = np.array([[[[10,20,30],[11,22,33],[12,23,31],[14,25,36]]]])\n",
    "print(a)\n",
    "\n",
    "\n",
    "b = a.ravel()      \n",
    "print(b)"
   ]
  },
  {
   "cell_type": "markdown",
   "id": "ae0b8220",
   "metadata": {},
   "source": [
    "## 21] flatten()"
   ]
  },
  {
   "cell_type": "markdown",
   "id": "7dfd54cd",
   "metadata": {},
   "source": [
    "## * it will also lower the dimension to single line"
   ]
  },
  {
   "cell_type": "code",
   "execution_count": 23,
   "id": "5a25b2fa",
   "metadata": {},
   "outputs": [
    {
     "name": "stdout",
     "output_type": "stream",
     "text": [
      "[10 20 30 11 22 33 12 23 31 14 25 36]\n"
     ]
    }
   ],
   "source": [
    "c = a.flatten()\n",
    "print(c)"
   ]
  },
  {
   "cell_type": "markdown",
   "id": "071d8b5b",
   "metadata": {},
   "source": [
    "## 22] random.randint()"
   ]
  },
  {
   "cell_type": "markdown",
   "id": "03abc03c",
   "metadata": {},
   "source": [
    "## * it will take any random number within specify range"
   ]
  },
  {
   "cell_type": "code",
   "execution_count": 24,
   "id": "a5efddd7",
   "metadata": {},
   "outputs": [
    {
     "name": "stdout",
     "output_type": "stream",
     "text": [
      "[27 37 38 34 33]\n"
     ]
    }
   ],
   "source": [
    "a = np.random.randint(25,50,5)\n",
    "print(a)"
   ]
  },
  {
   "cell_type": "markdown",
   "id": "4d5c9989",
   "metadata": {},
   "source": [
    "## 23] random.choice()"
   ]
  },
  {
   "cell_type": "markdown",
   "id": "5b26a0f6",
   "metadata": {},
   "source": [
    "## * it will choose any random number from given list"
   ]
  },
  {
   "cell_type": "code",
   "execution_count": 25,
   "id": "a62f43c5",
   "metadata": {},
   "outputs": [
    {
     "name": "stdout",
     "output_type": "stream",
     "text": [
      "9\n"
     ]
    }
   ],
   "source": [
    "a = np.random.choice([1,2,3,4,5,6,7,8,9])\n",
    "print(a)"
   ]
  },
  {
   "cell_type": "markdown",
   "id": "52fdf381",
   "metadata": {},
   "source": [
    "## 24] random.shuffle()"
   ]
  },
  {
   "cell_type": "markdown",
   "id": "7d86374b",
   "metadata": {},
   "source": [
    "## * it will print a given numbers in random sequence"
   ]
  },
  {
   "cell_type": "code",
   "execution_count": 26,
   "id": "612d420f",
   "metadata": {},
   "outputs": [
    {
     "name": "stdout",
     "output_type": "stream",
     "text": [
      "None\n"
     ]
    }
   ],
   "source": [
    "aa = np.random.shuffle([1,2,3,4,5,6,9,8,7,2,5,4,3,6,15])\n",
    "print(aa)"
   ]
  },
  {
   "cell_type": "markdown",
   "id": "20850956",
   "metadata": {},
   "source": [
    "## 25] random.triangular()"
   ]
  },
  {
   "cell_type": "markdown",
   "id": "14978b7e",
   "metadata": {},
   "source": [
    "## * it will print any random float number within given range but it requires 3 parameters as it name is triangular"
   ]
  },
  {
   "cell_type": "code",
   "execution_count": 27,
   "id": "4a1d26ff",
   "metadata": {},
   "outputs": [
    {
     "name": "stdout",
     "output_type": "stream",
     "text": [
      "33.51214731863726\n"
     ]
    }
   ],
   "source": [
    "ab = np.random.triangular(1,25,65)\n",
    "print(ab)"
   ]
  },
  {
   "cell_type": "markdown",
   "id": "0bb1217e",
   "metadata": {},
   "source": [
    "## 26] random.uniform()"
   ]
  },
  {
   "cell_type": "markdown",
   "id": "a354b2df",
   "metadata": {},
   "source": [
    "## * it will random float number within given range"
   ]
  },
  {
   "cell_type": "code",
   "execution_count": 28,
   "id": "1070a89c",
   "metadata": {},
   "outputs": [
    {
     "name": "stdout",
     "output_type": "stream",
     "text": [
      "4.637426327798833\n"
     ]
    }
   ],
   "source": [
    "x = np.random.uniform(1,15)\n",
    "print(x)"
   ]
  },
  {
   "cell_type": "markdown",
   "id": "a500219d",
   "metadata": {},
   "source": [
    "## 27] dot()"
   ]
  },
  {
   "cell_type": "markdown",
   "id": "3b6bc9d2",
   "metadata": {},
   "source": [
    "## * we will get a dot product of 2 matrix  "
   ]
  },
  {
   "cell_type": "code",
   "execution_count": 29,
   "id": "ef28e122",
   "metadata": {},
   "outputs": [
    {
     "name": "stdout",
     "output_type": "stream",
     "text": [
      "[[2140 2420]\n",
      " [2354 2662]]\n"
     ]
    }
   ],
   "source": [
    "a = np.array([[10,20],[11,22]])\n",
    "b = np.array([[40,50],[87,96]])\n",
    "print(np.dot(a,b))"
   ]
  },
  {
   "cell_type": "markdown",
   "id": "16a2272f",
   "metadata": {},
   "source": [
    "## 28] astype()"
   ]
  },
  {
   "cell_type": "markdown",
   "id": "7fd4323a",
   "metadata": {},
   "source": [
    "## * it will convert float to integer but some data will be lost"
   ]
  },
  {
   "cell_type": "code",
   "execution_count": 30,
   "id": "bc55ee1b",
   "metadata": {},
   "outputs": [
    {
     "name": "stdout",
     "output_type": "stream",
     "text": [
      "[[11  2]\n",
      " [ 5 45]]\n"
     ]
    }
   ],
   "source": [
    "a = np.array([[11,2.2],[5.5,45]])\n",
    "\n",
    "print(a.astype(int))"
   ]
  },
  {
   "cell_type": "markdown",
   "id": "361aea01",
   "metadata": {},
   "source": [
    "## 29] diag()"
   ]
  },
  {
   "cell_type": "markdown",
   "id": "8b7220bb",
   "metadata": {},
   "source": [
    "## * it will form a 2D array and place all the elements diagonali in the matrix"
   ]
  },
  {
   "cell_type": "code",
   "execution_count": 31,
   "id": "47524a52",
   "metadata": {},
   "outputs": [
    {
     "name": "stdout",
     "output_type": "stream",
     "text": [
      "[[2 0 0 0]\n",
      " [0 4 0 0]\n",
      " [0 0 6 0]\n",
      " [0 0 0 8]]\n"
     ]
    }
   ],
   "source": [
    "a =  np.diag([2,4,6,8])\n",
    "print(a)"
   ]
  },
  {
   "cell_type": "code",
   "execution_count": 32,
   "id": "0f0eb30c",
   "metadata": {},
   "outputs": [
    {
     "name": "stdout",
     "output_type": "stream",
     "text": [
      "[1 5 9]\n"
     ]
    }
   ],
   "source": [
    "a = np.array([[1,2,3],[4,5,6],[7,8,9]])\n",
    "b = np.diag(a)         # it will show only diagonal elements\n",
    "print(b)"
   ]
  },
  {
   "cell_type": "markdown",
   "id": "974d2daa",
   "metadata": {},
   "source": [
    "## 30] random.randn()"
   ]
  },
  {
   "cell_type": "markdown",
   "id": "19799e6b",
   "metadata": {},
   "source": [
    "## * it will print the random numbers between 0&1 and it will also take negative numbers "
   ]
  },
  {
   "cell_type": "code",
   "execution_count": 33,
   "id": "0bcfcbf5",
   "metadata": {},
   "outputs": [
    {
     "data": {
      "text/plain": [
       "array([ 0.83989179,  0.38549581,  1.14654024, -0.97788181,  0.93060479])"
      ]
     },
     "execution_count": 33,
     "metadata": {},
     "output_type": "execute_result"
    }
   ],
   "source": [
    "a = np.random.randn(5)\n",
    "a"
   ]
  },
  {
   "cell_type": "code",
   "execution_count": null,
   "id": "8d47a4a9",
   "metadata": {},
   "outputs": [],
   "source": []
  }
 ],
 "metadata": {
  "kernelspec": {
   "display_name": "Python 3 (ipykernel)",
   "language": "python",
   "name": "python3"
  },
  "language_info": {
   "codemirror_mode": {
    "name": "ipython",
    "version": 3
   },
   "file_extension": ".py",
   "mimetype": "text/x-python",
   "name": "python",
   "nbconvert_exporter": "python",
   "pygments_lexer": "ipython3",
   "version": "3.9.12"
  }
 },
 "nbformat": 4,
 "nbformat_minor": 5
}
